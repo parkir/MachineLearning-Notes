{
  "nbformat": 4,
  "nbformat_minor": 0,
  "metadata": {
    "colab": {
      "name": "Fake-News-Detection_TfidfVectorizer-PassiveAggressiveClassifier",
      "provenance": [],
      "collapsed_sections": [],
      "authorship_tag": "ABX9TyMGuvfyEw/TFHAFCeU47yXb",
      "include_colab_link": true
    },
    "kernelspec": {
      "name": "python3",
      "display_name": "Python 3"
    },
    "language_info": {
      "name": "python"
    }
  },
  "cells": [
    {
      "cell_type": "markdown",
      "metadata": {
        "id": "view-in-github",
        "colab_type": "text"
      },
      "source": [
        "<a href=\"https://colab.research.google.com/github/parkir/MachineLearning-Notes/blob/master/Fake_News_Detection_TfidfVectorizer_PassiveAggressiveClassifier.ipynb\" target=\"_parent\"><img src=\"https://colab.research.google.com/assets/colab-badge.svg\" alt=\"Open In Colab\"/></a>"
      ]
    },
    {
      "cell_type": "code",
      "metadata": {
        "id": "kVrHoeRIpv1p"
      },
      "source": [
        "from google.colab import drive\n",
        "drive.mount('/content/gdrive')"
      ],
      "execution_count": null,
      "outputs": []
    },
    {
      "cell_type": "code",
      "metadata": {
        "id": "_AfsQAlNqZw2"
      },
      "source": [
        "import numpy as np\n",
        "import pandas as pd\n",
        "import itertools\n",
        "from sklearn.model_selection import train_test_split\n",
        "from sklearn.feature_extraction.text import TfidfVectorizer\n",
        "from sklearn.linear_model import PassiveAggressiveClassifier\n",
        "from sklearn.metrics import classification_report, accuracy_score\n",
        "from sklearn.metrics import accuracy_score, confusion_matrix"
      ],
      "execution_count": 2,
      "outputs": []
    },
    {
      "cell_type": "code",
      "metadata": {
        "id": "QGnMmZE3p_XG"
      },
      "source": [
        "# Loading dataset\n",
        "df=pd.read_csv('/content/gdrive/My Drive/4.Programming_Place/0.Data/news.csv')\n",
        "# Get the labels\n",
        "labels = df.label"
      ],
      "execution_count": 3,
      "outputs": []
    },
    {
      "cell_type": "code",
      "metadata": {
        "id": "89EI1dvvreem"
      },
      "source": [
        "# Splitting iris dataset into train and test sets\n",
        "X_train, X_test, y_train, y_test = train_test_split(df['text'], labels, test_size=0.2, random_state=7)"
      ],
      "execution_count": 4,
      "outputs": []
    },
    {
      "cell_type": "code",
      "metadata": {
        "id": "wREUWjl_r9fC"
      },
      "source": [
        "# Initialize the TfidfVectorizer\n",
        "tfidf_vectorizer=TfidfVectorizer(stop_words='english', max_df=0.7)\n",
        "\n",
        "# Fit and transform train set, transform test set\n",
        "tfidf_train = tfidf_vectorizer.fit_transform(X_train) \n",
        "tfidf_test = tfidf_vectorizer.transform(X_test)"
      ],
      "execution_count": 5,
      "outputs": []
    },
    {
      "cell_type": "code",
      "metadata": {
        "id": "gwjId_1zEAWK"
      },
      "source": [
        "# Creating model\n",
        "model = PassiveAggressiveClassifier(max_iter=50)\n",
        "\n",
        "# Fitting model \n",
        "model.fit(tfidf_train, y_train)\n",
        "  \n",
        "# Making prediction on test set\n",
        "test_pred = model.predict(tfidf_test)"
      ],
      "execution_count": 6,
      "outputs": []
    },
    {
      "cell_type": "code",
      "metadata": {
        "colab": {
          "base_uri": "https://localhost:8080/"
        },
        "id": "iPqDGVs5ClG8",
        "outputId": "b9799925-a870-4afd-808e-d032e4625169"
      },
      "source": [
        "# Model evaluation\n",
        "print(f\"Test Set Accuracy : {accuracy_score(y_test, test_pred) * 100} %\\n\\n\")\n",
        "print(f\"Confusion Matrix : \\n\\n{confusion_matrix(y_test, test_pred, labels=['FAKE','REAL'])} \\n\\n\")\n",
        "print(f\"Classification Report : \\n\\n{classification_report(y_test, test_pred)}\")"
      ],
      "execution_count": 7,
      "outputs": [
        {
          "output_type": "stream",
          "name": "stdout",
          "text": [
            "Test Set Accuracy : 92.97553275453828 %\n",
            "\n",
            "\n",
            "Confusion Matrix : \n",
            "\n",
            "[[590  48]\n",
            " [ 41 588]] \n",
            "\n",
            "\n",
            "Classification Report : \n",
            "\n",
            "              precision    recall  f1-score   support\n",
            "\n",
            "        FAKE       0.94      0.92      0.93       638\n",
            "        REAL       0.92      0.93      0.93       629\n",
            "\n",
            "    accuracy                           0.93      1267\n",
            "   macro avg       0.93      0.93      0.93      1267\n",
            "weighted avg       0.93      0.93      0.93      1267\n",
            "\n"
          ]
        }
      ]
    }
  ]
}